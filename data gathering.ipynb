{
 "cells": [
  {
   "cell_type": "code",
   "execution_count": 1,
   "id": "b10a7a64-6950-464d-8d86-340d0728fdcc",
   "metadata": {},
   "outputs": [
    {
     "name": "stdout",
     "output_type": "stream",
     "text": [
      "     id         name symbol      slug  num_market_pairs  \\\n",
      "0     1      Bitcoin    BTC   bitcoin             10833   \n",
      "1  1027     Ethereum    ETH  ethereum              8461   \n",
      "2   825  Tether USDt   USDT    tether             76033   \n",
      "3  1839          BNB    BNB       bnb              2075   \n",
      "4  5426       Solana    SOL    solana               626   \n",
      "\n",
      "                 date_added  \\\n",
      "0  2010-07-13T00:00:00.000Z   \n",
      "1  2015-08-07T00:00:00.000Z   \n",
      "2  2015-02-25T00:00:00.000Z   \n",
      "3  2017-07-25T00:00:00.000Z   \n",
      "4  2020-04-10T00:00:00.000Z   \n",
      "\n",
      "                                                tags  max_supply  \\\n",
      "0  [mineable, pow, sha-256, store-of-value, state...  21000000.0   \n",
      "1  [pos, smart-contracts, ethereum-ecosystem, coi...         NaN   \n",
      "2  [payments, stablecoin, asset-backed-stablecoin...         NaN   \n",
      "3  [marketplace, centralized-exchange, payments, ...         NaN   \n",
      "4  [pos, platform, solana-ecosystem, cms-holdings...         NaN   \n",
      "\n",
      "   circulating_supply  total_supply  infinite_supply  \\\n",
      "0        1.963884e+07  1.963884e+07            False   \n",
      "1        1.201536e+08  1.201536e+08             True   \n",
      "2        9.806357e+10  1.016001e+11             True   \n",
      "3        1.495429e+08  1.495429e+08            False   \n",
      "4        4.423224e+08  5.705431e+08             True   \n",
      "\n",
      "                                            platform  cmc_rank  \\\n",
      "0                                               None         1   \n",
      "1                                               None         2   \n",
      "2  {'id': 1027, 'name': 'Ethereum', 'symbol': 'ET...         3   \n",
      "3                                               None         4   \n",
      "4                                               None         5   \n",
      "\n",
      "   self_reported_circulating_supply  self_reported_market_cap  tvl_ratio  \\\n",
      "0                               NaN                       NaN        NaN   \n",
      "1                               NaN                       NaN        NaN   \n",
      "2                               NaN                       NaN        NaN   \n",
      "3                               NaN                       NaN        NaN   \n",
      "4                               NaN                       NaN        NaN   \n",
      "\n",
      "               last_updated                                              quote  \n",
      "0  2024-02-27T05:32:00.000Z  {'USD': {'price': 55791.78965230938, 'volume_2...  \n",
      "1  2024-02-27T05:32:00.000Z  {'USD': {'price': 3216.9516097990313, 'volume_...  \n",
      "2  2024-02-27T05:31:00.000Z  {'USD': {'price': 1.000350461835418, 'volume_2...  \n",
      "3  2024-02-27T05:31:00.000Z  {'USD': {'price': 397.7674889046932, 'volume_2...  \n",
      "4  2024-02-27T05:32:00.000Z  {'USD': {'price': 109.9534616758505, 'volume_2...  \n"
     ]
    }
   ],
   "source": [
    "# Import libraries\n",
    "import requests\n",
    "import pandas as pd\n",
    "\n",
    "# Replace with your API key\n",
    "api_key = \"a9a6eeba-7717-4358-9c42-6579aa039438\"\n",
    "\n",
    "# Define headers with API key\n",
    "headers = {\n",
    "    \"Accepts\": \"application/json\",\n",
    "    \"X-CMC_PRO_API_KEY\": api_key\n",
    "}\n",
    "\n",
    "# Define parameters (optional - limit data to top 100 currencies)\n",
    "params = {\n",
    "    \"start\": \"1\",\n",
    "    \"limit\": \"100\",\n",
    "    \"convert\": \"USD\"  # Convert prices to USD\n",
    "}\n",
    "\n",
    "# Send GET request to the API\n",
    "url = \"https://pro-api.coinmarketcap.com/v1/cryptocurrency/listings/latest\"\n",
    "response = requests.get(url, headers=headers, params=params)\n",
    "\n",
    "# Check for successful response\n",
    "if response.status_code == 200:\n",
    "    # Convert JSON response to a Python dictionary\n",
    "    data = response.json()\n",
    "\n",
    "    # Extract relevant data into a pandas DataFrame\n",
    "    df = pd.DataFrame(data[\"data\"])\n",
    "\n",
    "    # Print the first few rows of the DataFrame\n",
    "    print(df.head())\n",
    "\n",
    "    # Save the DataFrame to a CSV file (optional)\n",
    "    df.to_csv(\"crypto_data.csv\", index=False)\n",
    "\n",
    "else:\n",
    "    print(f\"Error: {response.status_code}\")\n"
   ]
  },
  {
   "cell_type": "code",
   "execution_count": 3,
   "id": "0c094be3-f6d3-4c63-b654-ff8dd7821974",
   "metadata": {},
   "outputs": [
    {
     "name": "stdout",
     "output_type": "stream",
     "text": [
      "Current working directory: C:\\Users\\ASUS 1\n"
     ]
    }
   ],
   "source": [
    "import os\n",
    "\n",
    "# Get the current working directory\n",
    "current_directory = os.getcwd()\n",
    "\n",
    "# Print the current working directory\n",
    "print(\"Current working directory:\", current_directory)\n"
   ]
  },
  {
   "cell_type": "code",
   "execution_count": null,
   "id": "71c52cb1-d0b7-4dbc-b876-288aad5d344c",
   "metadata": {},
   "outputs": [],
   "source": []
  }
 ],
 "metadata": {
  "kernelspec": {
   "display_name": "Python 3 (ipykernel)",
   "language": "python",
   "name": "python3"
  },
  "language_info": {
   "codemirror_mode": {
    "name": "ipython",
    "version": 3
   },
   "file_extension": ".py",
   "mimetype": "text/x-python",
   "name": "python",
   "nbconvert_exporter": "python",
   "pygments_lexer": "ipython3",
   "version": "3.10.13"
  }
 },
 "nbformat": 4,
 "nbformat_minor": 5
}
